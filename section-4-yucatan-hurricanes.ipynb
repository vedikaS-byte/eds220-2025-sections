{
 "cells": [
  {
   "cell_type": "markdown",
   "id": "9e85775b-1a40-4902-a038-43d1af54d284",
   "metadata": {
    "tags": []
   },
   "source": [
    "# Yucatan Peninsula Hurricanes"
   ]
  },
  {
   "cell_type": "markdown",
   "id": "b896a58b-116a-4228-8b73-e5b6a7c00122",
   "metadata": {},
   "source": [
    "## 1. Archive exploration\n"
   ]
  },
  {
   "cell_type": "markdown",
   "id": "1548acc2-4976-4f10-82be-c203ff2947a7",
   "metadata": {},
   "source": [
    "This data describes the Saffir-Simpson hurricane category, track, name, and duration for Atlantic hurricanes since 1851. The data is specifically derived from computer simulated modeling of Atlantic hurricanes in the Yucatan Peninsula during Atlantic Hurricane Season.\n",
    "\n",
    "**Citation**\n",
    "\n",
    "Boose, E. and D. Foster. 2023. Ecological Impacts of Hurricanes Across the Yucatan Peninsula 1851-2000 ver 23. Environmental Data Initiative. https://doi.org/10.6073/pasta/f219113373913f2daf421732e28d3c38 (Accessed 2025-10-24)."
   ]
  },
  {
   "cell_type": "markdown",
   "id": "ce98b499-9170-4f8e-b9cc-b1cab03110aa",
   "metadata": {},
   "source": [
    "## 2. Data loading and preliminary exploration\n"
   ]
  },
  {
   "cell_type": "code",
   "execution_count": 51,
   "id": "b57b8532-7085-48bc-bd5e-57dcd66160bf",
   "metadata": {
    "tags": []
   },
   "outputs": [],
   "source": [
    "# Import neccessary packages\n",
    "import pandas as pd\n",
    "import matplotlib.pyplot as plt"
   ]
  },
  {
   "cell_type": "code",
   "execution_count": 52,
   "id": "e65c120d-d60b-442e-95a3-46118a115231",
   "metadata": {
    "tags": []
   },
   "outputs": [
    {
     "data": {
      "text/html": [
       "<div>\n",
       "<style scoped>\n",
       "    .dataframe tbody tr th:only-of-type {\n",
       "        vertical-align: middle;\n",
       "    }\n",
       "\n",
       "    .dataframe tbody tr th {\n",
       "        vertical-align: top;\n",
       "    }\n",
       "\n",
       "    .dataframe thead th {\n",
       "        text-align: right;\n",
       "    }\n",
       "</style>\n",
       "<table border=\"1\" class=\"dataframe\">\n",
       "  <thead>\n",
       "    <tr style=\"text-align: right;\">\n",
       "      <th></th>\n",
       "      <th>code</th>\n",
       "      <th>start.date</th>\n",
       "      <th>end.date</th>\n",
       "      <th>number</th>\n",
       "      <th>name</th>\n",
       "      <th>ss</th>\n",
       "      <th>track</th>\n",
       "      <th>rf.max</th>\n",
       "    </tr>\n",
       "  </thead>\n",
       "  <tbody>\n",
       "    <tr>\n",
       "      <th>0</th>\n",
       "      <td>Y1852</td>\n",
       "      <td>1852-10-07</td>\n",
       "      <td>1852-10-08</td>\n",
       "      <td>5</td>\n",
       "      <td>NaN</td>\n",
       "      <td>2</td>\n",
       "      <td>O</td>\n",
       "      <td>F1</td>\n",
       "    </tr>\n",
       "    <tr>\n",
       "      <th>1</th>\n",
       "      <td>Y1857</td>\n",
       "      <td>1857-09-28</td>\n",
       "      <td>1857-09-28</td>\n",
       "      <td>4</td>\n",
       "      <td>NaN</td>\n",
       "      <td>2</td>\n",
       "      <td>N</td>\n",
       "      <td>F1</td>\n",
       "    </tr>\n",
       "    <tr>\n",
       "      <th>2</th>\n",
       "      <td>Y1861</td>\n",
       "      <td>1861-08-17</td>\n",
       "      <td>1861-08-17</td>\n",
       "      <td>2</td>\n",
       "      <td>NaN</td>\n",
       "      <td>1</td>\n",
       "      <td>O</td>\n",
       "      <td>Nd</td>\n",
       "    </tr>\n",
       "    <tr>\n",
       "      <th>3</th>\n",
       "      <td>Y1864</td>\n",
       "      <td>1864-08-31</td>\n",
       "      <td>1864-08-31</td>\n",
       "      <td>3</td>\n",
       "      <td>NaN</td>\n",
       "      <td>1</td>\n",
       "      <td>S</td>\n",
       "      <td>F1</td>\n",
       "    </tr>\n",
       "    <tr>\n",
       "      <th>4</th>\n",
       "      <td>Y1865</td>\n",
       "      <td>1865-09-11</td>\n",
       "      <td>1865-09-11</td>\n",
       "      <td>4</td>\n",
       "      <td>NaN</td>\n",
       "      <td>2</td>\n",
       "      <td>O</td>\n",
       "      <td>F1</td>\n",
       "    </tr>\n",
       "  </tbody>\n",
       "</table>\n",
       "</div>"
      ],
      "text/plain": [
       "    code  start.date    end.date  number name  ss track rf.max\n",
       "0  Y1852  1852-10-07  1852-10-08       5  NaN   2     O     F1\n",
       "1  Y1857  1857-09-28  1857-09-28       4  NaN   2     N     F1\n",
       "2  Y1861  1861-08-17  1861-08-17       2  NaN   1     O     Nd\n",
       "3  Y1864  1864-08-31  1864-08-31       3  NaN   1     S     F1\n",
       "4  Y1865  1865-09-11  1865-09-11       4  NaN   2     O     F1"
      ]
     },
     "execution_count": 52,
     "metadata": {},
     "output_type": "execute_result"
    }
   ],
   "source": [
    "# Read in data\n",
    "df = pd.read_csv(\"data/hf071-01-hurricanes.csv\")\n",
    "\n",
    "# Take a look at first few rows\n",
    "df.head()"
   ]
  },
  {
   "cell_type": "code",
   "execution_count": 53,
   "id": "d4f0533e-8e70-4d54-ba0d-9c34e62ba8de",
   "metadata": {
    "tags": []
   },
   "outputs": [
    {
     "data": {
      "text/plain": [
       "code           0\n",
       "start.date     0\n",
       "end.date       0\n",
       "number         0\n",
       "name          72\n",
       "ss             0\n",
       "track          0\n",
       "rf.max         0\n",
       "dtype: int64"
      ]
     },
     "execution_count": 53,
     "metadata": {},
     "output_type": "execute_result"
    }
   ],
   "source": [
    "# How many NAs per column? \n",
    "df.isnull().sum()"
   ]
  },
  {
   "cell_type": "code",
   "execution_count": 54,
   "id": "5e88ee14-7b6b-4367-a2af-324706b5b42e",
   "metadata": {
    "tags": []
   },
   "outputs": [
    {
     "name": "stdout",
     "output_type": "stream",
     "text": [
      "<class 'pandas.core.frame.DataFrame'>\n",
      "RangeIndex: 105 entries, 0 to 104\n",
      "Data columns (total 8 columns):\n",
      " #   Column      Non-Null Count  Dtype \n",
      "---  ------      --------------  ----- \n",
      " 0   code        105 non-null    object\n",
      " 1   start.date  105 non-null    object\n",
      " 2   end.date    105 non-null    object\n",
      " 3   number      105 non-null    int64 \n",
      " 4   name        33 non-null     object\n",
      " 5   ss          105 non-null    int64 \n",
      " 6   track       105 non-null    object\n",
      " 7   rf.max      105 non-null    object\n",
      "dtypes: int64(2), object(6)\n",
      "memory usage: 6.7+ KB\n"
     ]
    }
   ],
   "source": [
    "# Take a look at additional characteristics like dimensions, data structure type per column, etc.\n",
    "df.info()"
   ]
  },
  {
   "cell_type": "markdown",
   "id": "60795be5-aa41-467e-b801-f6664c5f74bf",
   "metadata": {
    "tags": []
   },
   "source": [
    "Notably, there are 72 missing observations in `name`."
   ]
  },
  {
   "cell_type": "markdown",
   "id": "1090b96f-573f-4d02-b9a3-59602d08c79a",
   "metadata": {},
   "source": [
    "## 3. Brainstorm"
   ]
  },
  {
   "cell_type": "markdown",
   "id": "8034598a-427a-462f-8f46-94052ace43dd",
   "metadata": {},
   "source": [
    "In this session we want to answer the following question:\n",
    "   \n",
    "   **How many hurricanes with Saffir-Simpson category 5 have been registered and what was their duration?**\n",
    "    \n",
    "a. Individually, write down step-by-step instructions on how you would wrangle the df data frame to answer the question. Do not code anything yet. Remember: It’s okay if you don’t know how to code each step. The important thing is to have an idea of what you’d like to do.\n",
    "\n",
    "b. Discuss your step-by-step instructions with your team. What do you see as potential challenges to implementing your plan?\n",
    "\n",
    "c. As a team, select an initial data wrangling plan for answering the question.\n",
    "\n"
   ]
  },
  {
   "cell_type": "code",
   "execution_count": 55,
   "id": "f576c5ed-6777-4a50-b3ee-a942c04b5703",
   "metadata": {
    "tags": []
   },
   "outputs": [],
   "source": [
    "#a. How to wrangle? \n",
    "# 1. Filter for Category 5 hurricanes (get dimensions for observations)\n",
    "# 2. Convert data columns to datetime64 data type\n",
    "# 3. Create a new column called \"duration\" (difference between end date and start date)"
   ]
  },
  {
   "cell_type": "markdown",
   "id": "413588ea-ddc3-4ad8-a04c-5a9472833c93",
   "metadata": {},
   "source": [
    "## 4. Data wrangling\n",
    "Use your plan as a starting point to answer the question.\n",
    "\n",
    "- You may (or not) need to look online to carry out some of the steps in your plan. It is completely fine to seek help online! Resourceful troubleshooting is a key skill in data science.\n",
    "- It’s ok if your initial plan changes as you work with the data and discuss challenges with your team! This brainstorm is to create a shared starting point.\n"
   ]
  },
  {
   "cell_type": "code",
   "execution_count": 56,
   "id": "e96617d8-1115-47b8-bfa6-bb6cd64d64bb",
   "metadata": {},
   "outputs": [
    {
     "data": {
      "text/plain": [
       "(4, 8)"
      ]
     },
     "execution_count": 56,
     "metadata": {},
     "output_type": "execute_result"
    }
   ],
   "source": [
    "# 1. Filter for Category 5 hurricanes (get dimensions for observations)\n",
    "df_cat5 = df[df[\"ss\"] == 5]\n",
    "df_cat5.shape"
   ]
  },
  {
   "cell_type": "code",
   "execution_count": 57,
   "id": "30f7fbc0-687f-48eb-a332-22bc0b80d782",
   "metadata": {
    "tags": []
   },
   "outputs": [
    {
     "data": {
      "text/plain": [
       "code          object\n",
       "start.date    object\n",
       "end.date      object\n",
       "number         int64\n",
       "name          object\n",
       "ss             int64\n",
       "track         object\n",
       "rf.max        object\n",
       "dtype: object"
      ]
     },
     "execution_count": 57,
     "metadata": {},
     "output_type": "execute_result"
    }
   ],
   "source": [
    "# 2. Convert date columns to datetime64 data type\n",
    "df_cat5.loc[:,\"start.date\"] = pd.to_datetime(df_cat5[\"start.date\"]) # Grab all rows \n",
    "df_cat5.loc[:,\"end.date\"] = pd.to_datetime(df_cat5[\"end.date\"]) # Grab all rows\n",
    "\n",
    "# Confirm date time type\n",
    "df_cat5.dtypes"
   ]
  },
  {
   "cell_type": "code",
   "execution_count": 58,
   "id": "6481245d-2041-4b58-9b16-82f184f407b9",
   "metadata": {
    "tags": []
   },
   "outputs": [
    {
     "name": "stderr",
     "output_type": "stream",
     "text": [
      "/tmp/ipykernel_3288799/2999076920.py:2: SettingWithCopyWarning: \n",
      "A value is trying to be set on a copy of a slice from a DataFrame.\n",
      "Try using .loc[row_indexer,col_indexer] = value instead\n",
      "\n",
      "See the caveats in the documentation: https://pandas.pydata.org/pandas-docs/stable/user_guide/indexing.html#returning-a-view-versus-a-copy\n",
      "  df_cat5[\"duration\"] = df_cat5[\"end.date\"] - df_cat5[\"start.date\"]\n"
     ]
    },
    {
     "data": {
      "text/html": [
       "<div>\n",
       "<style scoped>\n",
       "    .dataframe tbody tr th:only-of-type {\n",
       "        vertical-align: middle;\n",
       "    }\n",
       "\n",
       "    .dataframe tbody tr th {\n",
       "        vertical-align: top;\n",
       "    }\n",
       "\n",
       "    .dataframe thead th {\n",
       "        text-align: right;\n",
       "    }\n",
       "</style>\n",
       "<table border=\"1\" class=\"dataframe\">\n",
       "  <thead>\n",
       "    <tr style=\"text-align: right;\">\n",
       "      <th></th>\n",
       "      <th>code</th>\n",
       "      <th>start.date</th>\n",
       "      <th>end.date</th>\n",
       "      <th>number</th>\n",
       "      <th>name</th>\n",
       "      <th>ss</th>\n",
       "      <th>track</th>\n",
       "      <th>rf.max</th>\n",
       "      <th>duration</th>\n",
       "    </tr>\n",
       "  </thead>\n",
       "  <tbody>\n",
       "    <tr>\n",
       "      <th>76</th>\n",
       "      <td>Y1955b</td>\n",
       "      <td>1955-09-28 00:00:00</td>\n",
       "      <td>1955-09-28 00:00:00</td>\n",
       "      <td>10</td>\n",
       "      <td>Janet</td>\n",
       "      <td>5</td>\n",
       "      <td>N</td>\n",
       "      <td>F3</td>\n",
       "      <td>0 days 00:00:00</td>\n",
       "    </tr>\n",
       "    <tr>\n",
       "      <th>96</th>\n",
       "      <td>Y1980a</td>\n",
       "      <td>1980-08-07 00:00:00</td>\n",
       "      <td>1980-08-08 00:00:00</td>\n",
       "      <td>1</td>\n",
       "      <td>Allen</td>\n",
       "      <td>5</td>\n",
       "      <td>O</td>\n",
       "      <td>F3</td>\n",
       "      <td>1 days 00:00:00</td>\n",
       "    </tr>\n",
       "    <tr>\n",
       "      <th>98</th>\n",
       "      <td>Y1988</td>\n",
       "      <td>1988-09-14 00:00:00</td>\n",
       "      <td>1988-09-15 00:00:00</td>\n",
       "      <td>8</td>\n",
       "      <td>Gilbert</td>\n",
       "      <td>5</td>\n",
       "      <td>N</td>\n",
       "      <td>F3</td>\n",
       "      <td>1 days 00:00:00</td>\n",
       "    </tr>\n",
       "    <tr>\n",
       "      <th>103</th>\n",
       "      <td>Y1998</td>\n",
       "      <td>1998-10-27 00:00:00</td>\n",
       "      <td>1998-10-28 00:00:00</td>\n",
       "      <td>13</td>\n",
       "      <td>Mitch</td>\n",
       "      <td>5</td>\n",
       "      <td>S</td>\n",
       "      <td>F1</td>\n",
       "      <td>1 days 00:00:00</td>\n",
       "    </tr>\n",
       "  </tbody>\n",
       "</table>\n",
       "</div>"
      ],
      "text/plain": [
       "       code           start.date             end.date  number     name  ss  \\\n",
       "76   Y1955b  1955-09-28 00:00:00  1955-09-28 00:00:00      10    Janet   5   \n",
       "96   Y1980a  1980-08-07 00:00:00  1980-08-08 00:00:00       1    Allen   5   \n",
       "98    Y1988  1988-09-14 00:00:00  1988-09-15 00:00:00       8  Gilbert   5   \n",
       "103   Y1998  1998-10-27 00:00:00  1998-10-28 00:00:00      13    Mitch   5   \n",
       "\n",
       "    track rf.max         duration  \n",
       "76      N     F3  0 days 00:00:00  \n",
       "96      O     F3  1 days 00:00:00  \n",
       "98      N     F3  1 days 00:00:00  \n",
       "103     S     F1  1 days 00:00:00  "
      ]
     },
     "execution_count": 58,
     "metadata": {},
     "output_type": "execute_result"
    }
   ],
   "source": [
    "# 3. Create a new column called \"duration\" (difference between end date and start date)\n",
    "df_cat5[\"duration\"] = df_cat5[\"end.date\"] - df_cat5[\"start.date\"]\n",
    "\n",
    "# Take a look at the first few rows to confirm \"duration\" column values\n",
    "df_cat5.head()"
   ]
  },
  {
   "cell_type": "markdown",
   "id": "6765ad1e-fe3a-43a2-bf9a-1bb3b044981d",
   "metadata": {},
   "source": [
    "## 5: Visualize Saffir-Simpson categories across time\n",
    "a. Create a scatter plot of the start date of the hurricanes against the Saffir-Simpson scale. Use matplotlib to customize your graph, including updating the tick labels to be only 1, 2, 3, 4, and 5 since the Saffir-Simpsn scale does not take decimal values.\n",
    "\n",
    "b. Analyze your plot and write (in full sentences!) any trends that you observe.\n",
    "\n",
    " **Don’t forget to commit, pull, and push.**"
   ]
  },
  {
   "cell_type": "code",
   "execution_count": 64,
   "id": "e82478f6-446e-4197-9ba7-64802dbf87e0",
   "metadata": {},
   "outputs": [
    {
     "data": {
      "text/plain": [
       "([<matplotlib.axis.YTick at 0x7fb5e4660cd0>,\n",
       "  <matplotlib.axis.YTick at 0x7fb5e494a010>,\n",
       "  <matplotlib.axis.YTick at 0x7fb5e467c190>,\n",
       "  <matplotlib.axis.YTick at 0x7fb5e46f01d0>,\n",
       "  <matplotlib.axis.YTick at 0x7fb5e46f24d0>],\n",
       " [Text(0, 1, '1'),\n",
       "  Text(0, 2, '2'),\n",
       "  Text(0, 3, '3'),\n",
       "  Text(0, 4, '4'),\n",
       "  Text(0, 5, '5')])"
      ]
     },
     "execution_count": 64,
     "metadata": {},
     "output_type": "execute_result"
    },
    {
     "data": {
      "image/png": "[encoded data removed]",
      "text/plain": [
       "<Figure size 640x480 with 1 Axes>"
      ]
     },
     "metadata": {},
     "output_type": "display_data"
    }
   ],
   "source": [
    "#df.plot(kind = \"scatter\", x = \"start.date\", y = \"number\", title = \"Saffir-Simpson Categories for Atlantic Hurricanes (1851-2000)\")\n",
    "df.loc[:,\"start.date\"] = pd.to_datetime(df[\"start.date\"]) # Grab all rows \n",
    "df.loc[:,\"end.date\"] = pd.to_datetime(df[\"end.date\"]) # Grab all rows\n",
    "\n",
    "# Create a scatter plot of the date a hurricane formed against the scale assignment of a hurricane  \n",
    "plt.scatter(\"start.date\", \"ss\", data = df, marker = \".\")\n",
    "plt.xlabel(\"Year\")\n",
    "plt.ylabel(\"Saffir-Simpson Scale\") \n",
    "plt.yticks([1,2,3,4,5])"
   ]
  },
  {
   "cell_type": "markdown",
   "id": "85c423c2-663c-41b2-888f-65ca8329b757",
   "metadata": {},
   "source": [
    "## 6. Collect your code and explain your results\n",
    "a. In a new code cell, collect all the relevant code to create a streamlined workflow to obtain the final data to answer the question. Your code cell should:\n",
    "- Only print the final results.\n",
    "- Not include output from intermediate variables or checks.\n",
    "- Not include methods or functions that do not directly contribute to the analysis (even if they don’t print anything ex: df.head()).\n",
    "- If appropriate, combine methods using code chaining instead of creating intermediate variables.\n",
    "- Comment your code following our class comments guidelines.\n",
    "- Use appropriate line breaks and indentation to make code readable.\n",
    "\n",
    "\n",
    "\n",
    "\n",
    "b. Write a full sentence explaining your answer to the question in (3). Don’t forget to include units. You may also want to include any insights about the rest of the data for the Category 5 hurricanes.\n"
   ]
  },
  {
   "cell_type": "code",
   "execution_count": 68,
   "id": "6023673e-c7d7-4a10-a156-1cacc50ccdc3",
   "metadata": {},
   "outputs": [
    {
     "data": {
      "text/plain": [
       "([<matplotlib.axis.YTick at 0x7fb5e4657c90>,\n",
       "  <matplotlib.axis.YTick at 0x7fb5e45e3d90>,\n",
       "  <matplotlib.axis.YTick at 0x7fb5e4974450>,\n",
       "  <matplotlib.axis.YTick at 0x7fb5e42daa90>,\n",
       "  <matplotlib.axis.YTick at 0x7fb5e42e4e10>],\n",
       " [Text(0, 1, '1'),\n",
       "  Text(0, 2, '2'),\n",
       "  Text(0, 3, '3'),\n",
       "  Text(0, 4, '4'),\n",
       "  Text(0, 5, '5')])"
      ]
     },
     "execution_count": 68,
     "metadata": {},
     "output_type": "execute_result"
    },
    {
     "data": {
      "image/png": "[encoded data removed]",
      "text/plain": [
       "<Figure size 640x480 with 1 Axes>"
      ]
     },
     "metadata": {},
     "output_type": "display_data"
    }
   ],
   "source": [
    "# Import neccessary packages\n",
    "import pandas as pd\n",
    "import matplotlib.pyplot as plt\n",
    "\n",
    "# Read in data\n",
    "df = pd.read_csv(\"data/hf071-01-hurricanes.csv\")\n",
    "\n",
    "# Take a look at first few rows\n",
    "df.head()\n",
    "\n",
    "# Convert date columns to date_time data type\n",
    "df.loc[:,\"start.date\"] = pd.to_datetime(df[\"start.date\"]) # Grab all rows \n",
    "df.loc[:,\"end.date\"] = pd.to_datetime(df[\"end.date\"]) # Grab all rows\n",
    "\n",
    "# Create a scatter plot of the date a hurricane formed against the scale assignment of a hurricane  \n",
    "plt.scatter(\"start.date\", \"ss\", data = df, marker = \".\", color = \"hotpink\")\n",
    "plt.xlabel(\"Year\")\n",
    "plt.ylabel(\"Saffir-Simpson Scale\") \n",
    "plt.title(\"Saffir-Simpson Scale of Atlantic Hurricanes in the Yucatan Peninsula During Atlantic Hurricane Season (1851-2000)\")\n",
    "plt.yticks([1,2,3,4,5])"
   ]
  },
  {
   "cell_type": "markdown",
   "id": "83f42c97-2739-41f0-aec0-d00a92b0d440",
   "metadata": {},
   "source": [
    "**Since 1851, there have been four Category 5 hurricanes, six Category 4 hurricanes, and several Category 1-3 hurricanes. Increased hurricane activity in recent years suggest the influence of climate change on storm activity, especially in the warm waters of the Atlantic.**"
   ]
  },
  {
   "cell_type": "code",
   "execution_count": null,
   "id": "8a4af3ca-724c-4a06-b01e-c35210e471e9",
   "metadata": {},
   "outputs": [],
   "source": []
  }
 ],
 "metadata": {
  "kernelspec": {
   "display_name": "EDS220",
   "language": "python",
   "name": "eds220-env"
  },
  "language_info": {
   "codemirror_mode": {
    "name": "ipython",
    "version": 3
   },
   "file_extension": ".py",
   "mimetype": "text/x-python",
   "name": "python",
   "nbconvert_exporter": "python",
   "pygments_lexer": "ipython3",
   "version": "3.11.4"
  }
 },
 "nbformat": 4,
 "nbformat_minor": 5
}
