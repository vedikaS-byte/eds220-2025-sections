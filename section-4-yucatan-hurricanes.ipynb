{
 "cells": [
  {
   "cell_type": "markdown",
   "id": "9e85775b-1a40-4902-a038-43d1af54d284",
   "metadata": {
    "tags": []
   },
   "source": [
    "# Yucatan Peninsula Hurricanes"
   ]
  },
  {
   "cell_type": "markdown",
   "id": "b896a58b-116a-4228-8b73-e5b6a7c00122",
   "metadata": {},
   "source": [
    "## 1. Archive exploration\n"
   ]
  },
  {
   "cell_type": "code",
   "execution_count": null,
   "id": "cbbe49f1-afc0-4eed-8780-76d2a1a0aeec",
   "metadata": {},
   "outputs": [],
   "source": []
  },
  {
   "cell_type": "markdown",
   "id": "ce98b499-9170-4f8e-b9cc-b1cab03110aa",
   "metadata": {},
   "source": [
    "## 2. Data loading and preliminary exploration\n"
   ]
  },
  {
   "cell_type": "code",
   "execution_count": 2,
   "id": "b57b8532-7085-48bc-bd5e-57dcd66160bf",
   "metadata": {
    "tags": []
   },
   "outputs": [],
   "source": [
    "# Import neccessary packages\n",
    "import pandas as pd\n",
    "import matplotlib.pyplot as plt"
   ]
  },
  {
   "cell_type": "code",
   "execution_count": 4,
   "id": "e65c120d-d60b-442e-95a3-46118a115231",
   "metadata": {
    "tags": []
   },
   "outputs": [
    {
     "data": {
      "text/html": [
       "<div>\n",
       "<style scoped>\n",
       "    .dataframe tbody tr th:only-of-type {\n",
       "        vertical-align: middle;\n",
       "    }\n",
       "\n",
       "    .dataframe tbody tr th {\n",
       "        vertical-align: top;\n",
       "    }\n",
       "\n",
       "    .dataframe thead th {\n",
       "        text-align: right;\n",
       "    }\n",
       "</style>\n",
       "<table border=\"1\" class=\"dataframe\">\n",
       "  <thead>\n",
       "    <tr style=\"text-align: right;\">\n",
       "      <th></th>\n",
       "      <th>code</th>\n",
       "      <th>start.date</th>\n",
       "      <th>end.date</th>\n",
       "      <th>number</th>\n",
       "      <th>name</th>\n",
       "      <th>ss</th>\n",
       "      <th>track</th>\n",
       "      <th>rf.max</th>\n",
       "    </tr>\n",
       "  </thead>\n",
       "  <tbody>\n",
       "    <tr>\n",
       "      <th>0</th>\n",
       "      <td>Y1852</td>\n",
       "      <td>1852-10-07</td>\n",
       "      <td>1852-10-08</td>\n",
       "      <td>5</td>\n",
       "      <td>NaN</td>\n",
       "      <td>2</td>\n",
       "      <td>O</td>\n",
       "      <td>F1</td>\n",
       "    </tr>\n",
       "    <tr>\n",
       "      <th>1</th>\n",
       "      <td>Y1857</td>\n",
       "      <td>1857-09-28</td>\n",
       "      <td>1857-09-28</td>\n",
       "      <td>4</td>\n",
       "      <td>NaN</td>\n",
       "      <td>2</td>\n",
       "      <td>N</td>\n",
       "      <td>F1</td>\n",
       "    </tr>\n",
       "    <tr>\n",
       "      <th>2</th>\n",
       "      <td>Y1861</td>\n",
       "      <td>1861-08-17</td>\n",
       "      <td>1861-08-17</td>\n",
       "      <td>2</td>\n",
       "      <td>NaN</td>\n",
       "      <td>1</td>\n",
       "      <td>O</td>\n",
       "      <td>Nd</td>\n",
       "    </tr>\n",
       "    <tr>\n",
       "      <th>3</th>\n",
       "      <td>Y1864</td>\n",
       "      <td>1864-08-31</td>\n",
       "      <td>1864-08-31</td>\n",
       "      <td>3</td>\n",
       "      <td>NaN</td>\n",
       "      <td>1</td>\n",
       "      <td>S</td>\n",
       "      <td>F1</td>\n",
       "    </tr>\n",
       "    <tr>\n",
       "      <th>4</th>\n",
       "      <td>Y1865</td>\n",
       "      <td>1865-09-11</td>\n",
       "      <td>1865-09-11</td>\n",
       "      <td>4</td>\n",
       "      <td>NaN</td>\n",
       "      <td>2</td>\n",
       "      <td>O</td>\n",
       "      <td>F1</td>\n",
       "    </tr>\n",
       "  </tbody>\n",
       "</table>\n",
       "</div>"
      ],
      "text/plain": [
       "    code  start.date    end.date  number name  ss track rf.max\n",
       "0  Y1852  1852-10-07  1852-10-08       5  NaN   2     O     F1\n",
       "1  Y1857  1857-09-28  1857-09-28       4  NaN   2     N     F1\n",
       "2  Y1861  1861-08-17  1861-08-17       2  NaN   1     O     Nd\n",
       "3  Y1864  1864-08-31  1864-08-31       3  NaN   1     S     F1\n",
       "4  Y1865  1865-09-11  1865-09-11       4  NaN   2     O     F1"
      ]
     },
     "execution_count": 4,
     "metadata": {},
     "output_type": "execute_result"
    }
   ],
   "source": [
    "# Read in data\n",
    "df = pd.read_csv(\"data/hf071-01-hurricanes.csv\")\n",
    "\n",
    "# Take a look at first few rows\n",
    "df.head()"
   ]
  },
  {
   "cell_type": "code",
   "execution_count": 5,
   "id": "d4f0533e-8e70-4d54-ba0d-9c34e62ba8de",
   "metadata": {
    "tags": []
   },
   "outputs": [
    {
     "data": {
      "text/plain": [
       "code           0\n",
       "start.date     0\n",
       "end.date       0\n",
       "number         0\n",
       "name          72\n",
       "ss             0\n",
       "track          0\n",
       "rf.max         0\n",
       "dtype: int64"
      ]
     },
     "execution_count": 5,
     "metadata": {},
     "output_type": "execute_result"
    }
   ],
   "source": [
    "# How many NAs per column? \n",
    "df.isnull().sum()"
   ]
  },
  {
   "cell_type": "code",
   "execution_count": 6,
   "id": "5e88ee14-7b6b-4367-a2af-324706b5b42e",
   "metadata": {
    "tags": []
   },
   "outputs": [
    {
     "name": "stdout",
     "output_type": "stream",
     "text": [
      "<class 'pandas.core.frame.DataFrame'>\n",
      "RangeIndex: 105 entries, 0 to 104\n",
      "Data columns (total 8 columns):\n",
      " #   Column      Non-Null Count  Dtype \n",
      "---  ------      --------------  ----- \n",
      " 0   code        105 non-null    object\n",
      " 1   start.date  105 non-null    object\n",
      " 2   end.date    105 non-null    object\n",
      " 3   number      105 non-null    int64 \n",
      " 4   name        33 non-null     object\n",
      " 5   ss          105 non-null    int64 \n",
      " 6   track       105 non-null    object\n",
      " 7   rf.max      105 non-null    object\n",
      "dtypes: int64(2), object(6)\n",
      "memory usage: 6.7+ KB\n"
     ]
    }
   ],
   "source": [
    "# Take a look at additional characteristics like dimensions, data structure type per column, etc.\n",
    "df.info()"
   ]
  },
  {
   "cell_type": "markdown",
   "id": "60795be5-aa41-467e-b801-f6664c5f74bf",
   "metadata": {
    "tags": []
   },
   "source": [
    "Notably, there are 72 missing observations in `name`."
   ]
  },
  {
   "cell_type": "markdown",
   "id": "1090b96f-573f-4d02-b9a3-59602d08c79a",
   "metadata": {},
   "source": [
    "## 3. Brainstorm"
   ]
  },
  {
   "cell_type": "markdown",
   "id": "8034598a-427a-462f-8f46-94052ace43dd",
   "metadata": {},
   "source": [
    "In this session we want to answer the following question:\n",
    "   \n",
    "   **How many hurricanes with Saffir-Simpson category 5 have been registered and what was their duration?**\n",
    "    \n",
    "a. Individually, write down step-by-step instructions on how you would wrangle the df data frame to answer the question. Do not code anything yet. Remember: It’s okay if you don’t know how to code each step. The important thing is to have an idea of what you’d like to do.\n",
    "\n",
    "b. Discuss your step-by-step instructions with your team. What do you see as potential challenges to implementing your plan?\n",
    "\n",
    "c. As a team, select an initial data wrangling plan for answering the question.\n",
    "\n"
   ]
  },
  {
   "cell_type": "code",
   "execution_count": 8,
   "id": "f576c5ed-6777-4a50-b3ee-a942c04b5703",
   "metadata": {
    "tags": []
   },
   "outputs": [
    {
     "data": {
      "text/html": [
       "<div>\n",
       "<style scoped>\n",
       "    .dataframe tbody tr th:only-of-type {\n",
       "        vertical-align: middle;\n",
       "    }\n",
       "\n",
       "    .dataframe tbody tr th {\n",
       "        vertical-align: top;\n",
       "    }\n",
       "\n",
       "    .dataframe thead th {\n",
       "        text-align: right;\n",
       "    }\n",
       "</style>\n",
       "<table border=\"1\" class=\"dataframe\">\n",
       "  <thead>\n",
       "    <tr style=\"text-align: right;\">\n",
       "      <th></th>\n",
       "      <th>code</th>\n",
       "      <th>start.date</th>\n",
       "      <th>end.date</th>\n",
       "      <th>number</th>\n",
       "      <th>name</th>\n",
       "      <th>ss</th>\n",
       "      <th>track</th>\n",
       "      <th>rf.max</th>\n",
       "    </tr>\n",
       "  </thead>\n",
       "  <tbody>\n",
       "    <tr>\n",
       "      <th>0</th>\n",
       "      <td>Y1852</td>\n",
       "      <td>1852-10-07</td>\n",
       "      <td>1852-10-08</td>\n",
       "      <td>5</td>\n",
       "      <td>NaN</td>\n",
       "      <td>2</td>\n",
       "      <td>O</td>\n",
       "      <td>F1</td>\n",
       "    </tr>\n",
       "    <tr>\n",
       "      <th>1</th>\n",
       "      <td>Y1857</td>\n",
       "      <td>1857-09-28</td>\n",
       "      <td>1857-09-28</td>\n",
       "      <td>4</td>\n",
       "      <td>NaN</td>\n",
       "      <td>2</td>\n",
       "      <td>N</td>\n",
       "      <td>F1</td>\n",
       "    </tr>\n",
       "    <tr>\n",
       "      <th>2</th>\n",
       "      <td>Y1861</td>\n",
       "      <td>1861-08-17</td>\n",
       "      <td>1861-08-17</td>\n",
       "      <td>2</td>\n",
       "      <td>NaN</td>\n",
       "      <td>1</td>\n",
       "      <td>O</td>\n",
       "      <td>Nd</td>\n",
       "    </tr>\n",
       "    <tr>\n",
       "      <th>3</th>\n",
       "      <td>Y1864</td>\n",
       "      <td>1864-08-31</td>\n",
       "      <td>1864-08-31</td>\n",
       "      <td>3</td>\n",
       "      <td>NaN</td>\n",
       "      <td>1</td>\n",
       "      <td>S</td>\n",
       "      <td>F1</td>\n",
       "    </tr>\n",
       "    <tr>\n",
       "      <th>4</th>\n",
       "      <td>Y1865</td>\n",
       "      <td>1865-09-11</td>\n",
       "      <td>1865-09-11</td>\n",
       "      <td>4</td>\n",
       "      <td>NaN</td>\n",
       "      <td>2</td>\n",
       "      <td>O</td>\n",
       "      <td>F1</td>\n",
       "    </tr>\n",
       "  </tbody>\n",
       "</table>\n",
       "</div>"
      ],
      "text/plain": [
       "    code  start.date    end.date  number name  ss track rf.max\n",
       "0  Y1852  1852-10-07  1852-10-08       5  NaN   2     O     F1\n",
       "1  Y1857  1857-09-28  1857-09-28       4  NaN   2     N     F1\n",
       "2  Y1861  1861-08-17  1861-08-17       2  NaN   1     O     Nd\n",
       "3  Y1864  1864-08-31  1864-08-31       3  NaN   1     S     F1\n",
       "4  Y1865  1865-09-11  1865-09-11       4  NaN   2     O     F1"
      ]
     },
     "execution_count": 8,
     "metadata": {},
     "output_type": "execute_result"
    }
   ],
   "source": [
    "#a. How to wrangle? \n",
    "df.head()"
   ]
  },
  {
   "cell_type": "code",
   "execution_count": null,
   "id": "317c1b63-50a7-4835-a7a6-de8c59e767fd",
   "metadata": {},
   "outputs": [],
   "source": []
  },
  {
   "cell_type": "markdown",
   "id": "413588ea-ddc3-4ad8-a04c-5a9472833c93",
   "metadata": {},
   "source": [
    "## 4. Data wrangling\n",
    "Use your plan as a starting point to answer the question.\n",
    "\n",
    "- You may (or not) need to look online to carry out some of the steps in your plan. It is completely fine to seek help online! Resourceful troubleshooting is a key skill in data science.\n",
    "- It’s ok if your initial plan changes as you work with the data and discuss challenges with your team! This brainstorm is to create a shared starting point.\n"
   ]
  },
  {
   "cell_type": "code",
   "execution_count": null,
   "id": "e96617d8-1115-47b8-bfa6-bb6cd64d64bb",
   "metadata": {},
   "outputs": [],
   "source": []
  },
  {
   "cell_type": "markdown",
   "id": "6765ad1e-fe3a-43a2-bf9a-1bb3b044981d",
   "metadata": {},
   "source": [
    "## 5: Visualize Saffir-Simpson categories across time\n",
    "a. Create a scatter plot of the start date of the hurricanes against the Saffir-Simpson scale. Use matplotlib to customize your graph, including updating the tick labels to be only 1, 2, 3, 4, and 5 since the Saffir-Simpsn scale does not take decimal values.\n",
    "\n",
    "b. Analyze your plot and write (in full sentences!) any trends that you observe.\n",
    "\n",
    " **Don’t forget to commit, pull, and push.**"
   ]
  },
  {
   "cell_type": "code",
   "execution_count": null,
   "id": "e82478f6-446e-4197-9ba7-64802dbf87e0",
   "metadata": {},
   "outputs": [],
   "source": []
  },
  {
   "cell_type": "markdown",
   "id": "85c423c2-663c-41b2-888f-65ca8329b757",
   "metadata": {},
   "source": [
    "## 6. Collect your code and explain your results\n",
    "a. In a new code cell, collect all the relevant code to create a streamlined workflow to obtain the final data to answer the question. Your code cell should:\n",
    "- Only print the final results.\n",
    "- Not include output from intermediate variables or checks.\n",
    "- Not include methods or functions that do not directly contribute to the analysis (even if they don’t print anything ex: df.head()).\n",
    "- If appropriate, combine methods using code chaining instead of creating intermediate variables.\n",
    "- Comment your code following our class comments guidelines.\n",
    "- Use appropriate line breaks and indentation to make code readable.\n",
    "\n",
    "\n",
    "\n",
    "\n",
    "b. Write a full sentence explaining your answer to the question in (3). Don’t forget to include units. You may also want to include any insights about the rest of the data for the Category 5 hurricanes.\n"
   ]
  },
  {
   "cell_type": "code",
   "execution_count": null,
   "id": "6023673e-c7d7-4a10-a156-1cacc50ccdc3",
   "metadata": {},
   "outputs": [],
   "source": []
  }
 ],
 "metadata": {
  "kernelspec": {
   "display_name": "EDS220",
   "language": "python",
   "name": "eds220-env"
  },
  "language_info": {
   "codemirror_mode": {
    "name": "ipython",
    "version": 3
   },
   "file_extension": ".py",
   "mimetype": "text/x-python",
   "name": "python",
   "nbconvert_exporter": "python",
   "pygments_lexer": "ipython3",
   "version": "3.11.4"
  }
 },
 "nbformat": 4,
 "nbformat_minor": 5
}
