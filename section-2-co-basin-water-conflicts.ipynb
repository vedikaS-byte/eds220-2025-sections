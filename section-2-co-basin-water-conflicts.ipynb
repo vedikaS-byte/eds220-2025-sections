{
 "cells": [
  {
   "cell_type": "markdown",
   "id": "68fedeb4-a238-4a70-9a82-7d5c5909a519",
   "metadata": {},
   "source": [
    "# Water conflicts in the Colorado River Basin\n",
    "#### Week 2 - Discussion section"
   ]
  },
  {
   "cell_type": "code",
   "execution_count": 1,
   "id": "d874f3b7-5dc6-47f1-9095-15d6bd3630c9",
   "metadata": {
    "tags": []
   },
   "outputs": [],
   "source": [
    "import pandas as pd"
   ]
  },
  {
   "cell_type": "markdown",
   "id": "5fdd48eb-69c8-4152-8104-ad882d373026",
   "metadata": {},
   "source": [
    "## Archive exploration \n",
    "Look through the dataset’s description in the ScienceBase repository. Find the following information:\n",
    "\n",
    "1. Where was the data collected from??\n",
    "2. During what time frame were the observations in the dataset collected?\n",
    "3. What was the author’s perceived value of this dataset?\n",
    "\n",
    "In a markdown cell, use your answers to the previous questions to add a brief description of the dataset. Briefly discuss anything else that seems relevant to you. Include a citation, date of access, and a link to the archive.\n",
    "\n",
    "Take a look at the data’s metadata by clicking on the “View” icon of the Coded Events Colorado River Basin Water Conflict Table Metadata.xml file.\n",
    "\n",
    "check git status -> stage changes -> check git status -> commit with message -> pull -> push changes\n",
    "\n"
   ]
  },
  {
   "cell_type": "markdown",
   "id": "fb739a36-ef6f-4bef-acd4-76f432147a80",
   "metadata": {
    "tags": []
   },
   "source": [
    "##\n",
    "Create a new directory data/ inside your eds-220-sections directory.\n",
    "\n",
    "Download the Colorado River Basin Water Conflict Table.csv file from the Science Base repository and upload it into the data/ folder.\n",
    "\n",
    "Update the .gitignore file of your eds-220-sections so it ignores the data/ folder. Push the changes to this file. Verify that git is ignoring the data file. Note: If you update the .gitignore file via GitHub, you need to run git pull when you go back to the server.\n",
    "\n",
    "Load the data into your section-2-co-basin-water-conflicts.ipynb notebook. Name your data frame variable df.\n",
    "\n"
   ]
  },
  {
   "cell_type": "code",
   "execution_count": null,
   "id": "e049b095-733f-45e7-8df7-ee87c9ed2da2",
   "metadata": {},
   "outputs": [],
   "source": []
  }
 ],
 "metadata": {
  "kernelspec": {
   "display_name": "EDS220",
   "language": "python",
   "name": "eds220-env"
  },
  "language_info": {
   "codemirror_mode": {
    "name": "ipython",
    "version": 3
   },
   "file_extension": ".py",
   "mimetype": "text/x-python",
   "name": "python",
   "nbconvert_exporter": "python",
   "pygments_lexer": "ipython3",
   "version": "3.11.4"
  }
 },
 "nbformat": 4,
 "nbformat_minor": 5
}
